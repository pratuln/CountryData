{
  "nbformat": 4,
  "nbformat_minor": 0,
  "metadata": {
    "colab": {
      "provenance": [],
      "include_colab_link": true
    },
    "kernelspec": {
      "name": "python3",
      "display_name": "Python 3"
    },
    "language_info": {
      "name": "python"
    }
  },
  "cells": [
    {
      "cell_type": "markdown",
      "metadata": {
        "id": "view-in-github",
        "colab_type": "text"
      },
      "source": [
        "<a href=\"https://colab.research.google.com/github/pratuln/CountryData/blob/main/CountryData.ipynb\" target=\"_parent\"><img src=\"https://colab.research.google.com/assets/colab-badge.svg\" alt=\"Open In Colab\"/></a>"
      ]
    },
    {
      "cell_type": "code",
      "source": [
        "from google.colab import files\n",
        "uploaded = files.upload()"
      ],
      "metadata": {
        "id": "PyRrzjcv6_am",
        "colab": {
          "base_uri": "https://localhost:8080/",
          "height": 177
        },
        "outputId": "0d4bcd14-a8ec-44cd-a8be-291c4ae10cc6"
      },
      "execution_count": 1,
      "outputs": [
        {
          "output_type": "display_data",
          "data": {
            "text/plain": [
              "<IPython.core.display.HTML object>"
            ],
            "text/html": [
              "\n",
              "     <input type=\"file\" id=\"files-5f380fa3-dba6-403b-87e7-41f81901b358\" name=\"files[]\" multiple disabled\n",
              "        style=\"border:none\" />\n",
              "     <output id=\"result-5f380fa3-dba6-403b-87e7-41f81901b358\">\n",
              "      Upload widget is only available when the cell has been executed in the\n",
              "      current browser session. Please rerun this cell to enable.\n",
              "      </output>\n",
              "      <script>// Copyright 2017 Google LLC\n",
              "//\n",
              "// Licensed under the Apache License, Version 2.0 (the \"License\");\n",
              "// you may not use this file except in compliance with the License.\n",
              "// You may obtain a copy of the License at\n",
              "//\n",
              "//      http://www.apache.org/licenses/LICENSE-2.0\n",
              "//\n",
              "// Unless required by applicable law or agreed to in writing, software\n",
              "// distributed under the License is distributed on an \"AS IS\" BASIS,\n",
              "// WITHOUT WARRANTIES OR CONDITIONS OF ANY KIND, either express or implied.\n",
              "// See the License for the specific language governing permissions and\n",
              "// limitations under the License.\n",
              "\n",
              "/**\n",
              " * @fileoverview Helpers for google.colab Python module.\n",
              " */\n",
              "(function(scope) {\n",
              "function span(text, styleAttributes = {}) {\n",
              "  const element = document.createElement('span');\n",
              "  element.textContent = text;\n",
              "  for (const key of Object.keys(styleAttributes)) {\n",
              "    element.style[key] = styleAttributes[key];\n",
              "  }\n",
              "  return element;\n",
              "}\n",
              "\n",
              "// Max number of bytes which will be uploaded at a time.\n",
              "const MAX_PAYLOAD_SIZE = 100 * 1024;\n",
              "\n",
              "function _uploadFiles(inputId, outputId) {\n",
              "  const steps = uploadFilesStep(inputId, outputId);\n",
              "  const outputElement = document.getElementById(outputId);\n",
              "  // Cache steps on the outputElement to make it available for the next call\n",
              "  // to uploadFilesContinue from Python.\n",
              "  outputElement.steps = steps;\n",
              "\n",
              "  return _uploadFilesContinue(outputId);\n",
              "}\n",
              "\n",
              "// This is roughly an async generator (not supported in the browser yet),\n",
              "// where there are multiple asynchronous steps and the Python side is going\n",
              "// to poll for completion of each step.\n",
              "// This uses a Promise to block the python side on completion of each step,\n",
              "// then passes the result of the previous step as the input to the next step.\n",
              "function _uploadFilesContinue(outputId) {\n",
              "  const outputElement = document.getElementById(outputId);\n",
              "  const steps = outputElement.steps;\n",
              "\n",
              "  const next = steps.next(outputElement.lastPromiseValue);\n",
              "  return Promise.resolve(next.value.promise).then((value) => {\n",
              "    // Cache the last promise value to make it available to the next\n",
              "    // step of the generator.\n",
              "    outputElement.lastPromiseValue = value;\n",
              "    return next.value.response;\n",
              "  });\n",
              "}\n",
              "\n",
              "/**\n",
              " * Generator function which is called between each async step of the upload\n",
              " * process.\n",
              " * @param {string} inputId Element ID of the input file picker element.\n",
              " * @param {string} outputId Element ID of the output display.\n",
              " * @return {!Iterable<!Object>} Iterable of next steps.\n",
              " */\n",
              "function* uploadFilesStep(inputId, outputId) {\n",
              "  const inputElement = document.getElementById(inputId);\n",
              "  inputElement.disabled = false;\n",
              "\n",
              "  const outputElement = document.getElementById(outputId);\n",
              "  outputElement.innerHTML = '';\n",
              "\n",
              "  const pickedPromise = new Promise((resolve) => {\n",
              "    inputElement.addEventListener('change', (e) => {\n",
              "      resolve(e.target.files);\n",
              "    });\n",
              "  });\n",
              "\n",
              "  const cancel = document.createElement('button');\n",
              "  inputElement.parentElement.appendChild(cancel);\n",
              "  cancel.textContent = 'Cancel upload';\n",
              "  const cancelPromise = new Promise((resolve) => {\n",
              "    cancel.onclick = () => {\n",
              "      resolve(null);\n",
              "    };\n",
              "  });\n",
              "\n",
              "  // Wait for the user to pick the files.\n",
              "  const files = yield {\n",
              "    promise: Promise.race([pickedPromise, cancelPromise]),\n",
              "    response: {\n",
              "      action: 'starting',\n",
              "    }\n",
              "  };\n",
              "\n",
              "  cancel.remove();\n",
              "\n",
              "  // Disable the input element since further picks are not allowed.\n",
              "  inputElement.disabled = true;\n",
              "\n",
              "  if (!files) {\n",
              "    return {\n",
              "      response: {\n",
              "        action: 'complete',\n",
              "      }\n",
              "    };\n",
              "  }\n",
              "\n",
              "  for (const file of files) {\n",
              "    const li = document.createElement('li');\n",
              "    li.append(span(file.name, {fontWeight: 'bold'}));\n",
              "    li.append(span(\n",
              "        `(${file.type || 'n/a'}) - ${file.size} bytes, ` +\n",
              "        `last modified: ${\n",
              "            file.lastModifiedDate ? file.lastModifiedDate.toLocaleDateString() :\n",
              "                                    'n/a'} - `));\n",
              "    const percent = span('0% done');\n",
              "    li.appendChild(percent);\n",
              "\n",
              "    outputElement.appendChild(li);\n",
              "\n",
              "    const fileDataPromise = new Promise((resolve) => {\n",
              "      const reader = new FileReader();\n",
              "      reader.onload = (e) => {\n",
              "        resolve(e.target.result);\n",
              "      };\n",
              "      reader.readAsArrayBuffer(file);\n",
              "    });\n",
              "    // Wait for the data to be ready.\n",
              "    let fileData = yield {\n",
              "      promise: fileDataPromise,\n",
              "      response: {\n",
              "        action: 'continue',\n",
              "      }\n",
              "    };\n",
              "\n",
              "    // Use a chunked sending to avoid message size limits. See b/62115660.\n",
              "    let position = 0;\n",
              "    do {\n",
              "      const length = Math.min(fileData.byteLength - position, MAX_PAYLOAD_SIZE);\n",
              "      const chunk = new Uint8Array(fileData, position, length);\n",
              "      position += length;\n",
              "\n",
              "      const base64 = btoa(String.fromCharCode.apply(null, chunk));\n",
              "      yield {\n",
              "        response: {\n",
              "          action: 'append',\n",
              "          file: file.name,\n",
              "          data: base64,\n",
              "        },\n",
              "      };\n",
              "\n",
              "      let percentDone = fileData.byteLength === 0 ?\n",
              "          100 :\n",
              "          Math.round((position / fileData.byteLength) * 100);\n",
              "      percent.textContent = `${percentDone}% done`;\n",
              "\n",
              "    } while (position < fileData.byteLength);\n",
              "  }\n",
              "\n",
              "  // All done.\n",
              "  yield {\n",
              "    response: {\n",
              "      action: 'complete',\n",
              "    }\n",
              "  };\n",
              "}\n",
              "\n",
              "scope.google = scope.google || {};\n",
              "scope.google.colab = scope.google.colab || {};\n",
              "scope.google.colab._files = {\n",
              "  _uploadFiles,\n",
              "  _uploadFilesContinue,\n",
              "};\n",
              "})(self);\n",
              "</script> "
            ]
          },
          "metadata": {}
        },
        {
          "output_type": "stream",
          "name": "stdout",
          "text": [
            "Saving CPI.csv to CPI.csv\n",
            "Saving GDP.csv to GDP.csv\n",
            "Saving GdpDeflator.csv to GdpDeflator.csv\n",
            "Saving Inflation.csv to Inflation.csv\n"
          ]
        }
      ]
    },
    {
      "cell_type": "code",
      "execution_count": 2,
      "metadata": {
        "id": "ZLoyPvTKIYEm"
      },
      "outputs": [],
      "source": [
        "import pandas as pd\n",
        "import numpy as np\n",
        "import matplotlib.pyplot as plt"
      ]
    },
    {
      "cell_type": "code",
      "source": [
        "df = pd.read_csv('CPI.csv', header=4)\n",
        "df = df.drop(columns=['Country Code', 'Indicator Name', 'Indicator Code'])\n",
        "df = df.drop(df.iloc[:, 1:58], axis=1)\n",
        "df = df.loc[df['Country Name'].isin(['United Arab Emirates', 'United States', 'United Kingdom', 'China', 'Japan', 'India', 'Germany', 'France', 'Canada', 'Brazil', 'Colombia', 'Poland'])]\n",
        "df = df.set_index('Country Name')\n",
        "df = df.transpose()\n",
        "df = df.drop(df.index[5])\n",
        "df = df.sort_index()\n",
        "df = df.reset_index()\n",
        "df = df.melt(id_vars=['index'], value_vars=['United Arab Emirates', 'United States', 'United Kingdom', 'China', 'Japan', 'India', 'Germany', 'France', 'Canada', 'Brazil', 'Colombia', 'Poland'])\n",
        "df = df.rename(columns={'index': 'Year', 'variable': 'Country Name', 'value': 'CPI'})\n",
        "df = df.sort_values(by=['Year', 'Country Name'])\n",
        "df = df.reset_index(drop=True)\n"
      ],
      "metadata": {
        "id": "2c_lDLMA3oJ4"
      },
      "execution_count": 3,
      "outputs": []
    },
    {
      "cell_type": "code",
      "source": [
        "df2 = pd.read_csv('GDP.csv', header=2)\n",
        "df2 = df2.drop(columns=['Country Code', 'Indicator Name', 'Indicator Code'])\n",
        "df2 = df2.drop(df2.iloc[:, 1:58], axis=1)\n",
        "df2 = df2.loc[df2['Country Name'].isin(['United Arab Emirates', 'United States', 'United Kingdom', 'China', 'Japan', 'India', 'Germany', 'France', 'Canada', 'Brazil', 'Colombia', 'Poland'])]\n",
        "df2 = df2.set_index('Country Name')\n",
        "df2 = df2.transpose()\n",
        "df2 = df2.drop(df2.index[6])\n",
        "df2 = df2.drop(df2.index[5])\n",
        "df2 = df2.sort_index()\n",
        "df2 = df2.reset_index()\n",
        "df2 = df2.melt(id_vars=['index'], value_vars=['United Arab Emirates', 'United States', 'United Kingdom', 'China', 'Japan', 'India', 'Germany', 'France', 'Canada', 'Brazil', 'Colombia', 'Poland'])\n",
        "df2 = df2.rename(columns={'index': 'Year', 'variable': 'Country Name', 'value': 'GDP'})\n",
        "df2 = df2.sort_values(by=['Year', 'Country Name'])\n",
        "df2 = df2.reset_index(drop=True)\n"
      ],
      "metadata": {
        "id": "e_gUDFBY1U0y"
      },
      "execution_count": 4,
      "outputs": []
    },
    {
      "cell_type": "code",
      "source": [
        "df3 = pd.read_csv('GdpDeflator.csv', header=2)\n",
        "df3 = df3.drop(columns=['Country Code', 'Indicator Name', 'Indicator Code'])\n",
        "df3 = df3.drop(df3.iloc[:, 1:58], axis=1)\n",
        "df3 = df3.loc[df3['Country Name'].isin(['United Arab Emirates', 'United States', 'United Kingdom', 'China', 'Japan', 'India', 'Germany', 'France', 'Canada', 'Brazil', 'Colombia', 'Poland'])]\n",
        "df3 = df3.set_index('Country Name')\n",
        "df3 = df3.transpose()\n",
        "df3 = df3.drop(df3.index[6])\n",
        "df3 = df3.drop(df3.index[5])\n",
        "df3 = df3.sort_index()\n",
        "df3 = df3.reset_index()\n",
        "df3 = df3.melt(id_vars=['index'], value_vars=['United Arab Emirates', 'United States', 'United Kingdom', 'China', 'Japan', 'India', 'Germany', 'France', 'Canada', 'Brazil', 'Colombia', 'Poland'])\n",
        "df3 = df3.rename(columns={'index': 'Year', 'variable': 'Country Name', 'value': 'GDP Deflator'})\n",
        "df3 = df3.sort_values(by=['Year', 'Country Name'])\n",
        "df3 = df3.reset_index(drop=True)\n"
      ],
      "metadata": {
        "id": "YfiasuyR2LCh"
      },
      "execution_count": 5,
      "outputs": []
    },
    {
      "cell_type": "code",
      "source": [
        "df4 = pd.read_csv('Inflation.csv', header=2)\n",
        "df4 = df4.drop(columns=['Country Code', 'Indicator Name', 'Indicator Code'])\n",
        "df4 = df4.drop(df4.iloc[:, 1:58], axis=1)\n",
        "df4 = df4.loc[df4['Country Name'].isin(['United Arab Emirates', 'United States', 'United Kingdom', 'China', 'Japan', 'India', 'Germany', 'France', 'Canada', 'Brazil', 'Colombia', 'Poland'])]\n",
        "df4 = df4.set_index('Country Name')\n",
        "df4 = df4.transpose()\n",
        "df4 = df4.drop(df4.index[6])\n",
        "df4 = df4.drop(df4.index[5])\n",
        "df4 = df4.sort_index()\n",
        "df4 = df4.reset_index()\n",
        "df4 = df4.melt(id_vars=['index'], value_vars=['United Arab Emirates', 'United States', 'United Kingdom', 'China', 'Japan', 'India', 'Germany', 'France', 'Canada', 'Brazil', 'Colombia', 'Poland'])\n",
        "df4 = df4.rename(columns={'index': 'Year', 'variable': 'Country Name', 'value': 'Inflation'})\n",
        "df4 = df4.sort_values(by=['Year', 'Country Name'])\n",
        "df4 = df4.reset_index(drop=True)"
      ],
      "metadata": {
        "id": "bvcCT5iJOM9R"
      },
      "execution_count": 6,
      "outputs": []
    },
    {
      "cell_type": "code",
      "source": [
        "df5 = pd.concat([df, df2['GDP'], df3['GDP Deflator'], df4['Inflation']], axis=1)\n",
        "df5.to_csv('Final.csv', index=False)"
      ],
      "metadata": {
        "id": "lg4bUnjA2Q5b"
      },
      "execution_count": 7,
      "outputs": []
    },
    {
      "cell_type": "code",
      "source": [
        "df2017 = df5.iloc[:12]\n",
        "df2018 = df5.iloc[12:24]\n",
        "df2019 = df5.iloc[24:36]\n",
        "df2020 = df5.iloc[36:48]\n",
        "df2021 = df5.iloc[48:]\n",
        "print(\"GDP Inflation Corr. Overall:\", df5['Inflation'].corr(df5['GDP']))\n",
        "print(\"2017:\", df2017['Inflation'].corr(df2017['GDP']))\n",
        "print(\"2018:\", df2018['Inflation'].corr(df2018['GDP']))\n",
        "print(\"2019:\", df2019['Inflation'].corr(df2019['GDP']))\n",
        "print(\"2020:\", df2020['Inflation'].corr(df2020['GDP']))\n",
        "print(\"2021:\", df2021['Inflation'].corr(df2021['GDP']))\n",
        "\n",
        "\n"
      ],
      "metadata": {
        "colab": {
          "base_uri": "https://localhost:8080/"
        },
        "id": "ypZUbMTnf2TY",
        "outputId": "6fff7e6e-53b8-4ce3-d7b0-ac3455efc4d4"
      },
      "execution_count": 8,
      "outputs": [
        {
          "output_type": "stream",
          "name": "stdout",
          "text": [
            "GDP Inflation Corr. Overall: 0.3031330676443249\n",
            "2017: -0.009514676091695165\n",
            "2018: 0.23527488836237\n",
            "2019: 0.521122440721541\n",
            "2020: 0.07957620572195391\n",
            "2021: 0.22394099068217402\n"
          ]
        }
      ]
    },
    {
      "cell_type": "code",
      "source": [
        "print(\"CPI GDP Deflator Corr. Overall:\", df5['CPI'].corr(df5['GDP Deflator']))\n",
        "print(\"2017:\", df2017['CPI'].corr(df2017['GDP Deflator']))\n",
        "print(\"2018:\", df2018['CPI'].corr(df2018['GDP Deflator']))\n",
        "print(\"2019:\", df2019['CPI'].corr(df2019['GDP Deflator']))\n",
        "print(\"2020:\", df2020['CPI'].corr(df2020['GDP Deflator']))\n",
        "print(\"2021:\", df2021['CPI'].corr(df2021['GDP Deflator']))\n"
      ],
      "metadata": {
        "colab": {
          "base_uri": "https://localhost:8080/"
        },
        "id": "98j-8PHxf6x6",
        "outputId": "246932d9-2a89-4f83-c837-05ccf1a11312"
      },
      "execution_count": 9,
      "outputs": [
        {
          "output_type": "stream",
          "name": "stdout",
          "text": [
            "CPI GDP Deflator Corr. Overall: 0.8967048052395581\n",
            "2017: 0.8771955337101485\n",
            "2018: 0.8919788317584253\n",
            "2019: 0.8907403881532675\n",
            "2020: 0.871781330085561\n",
            "2021: 0.9176933615855518\n"
          ]
        }
      ]
    },
    {
      "cell_type": "code",
      "source": [
        "# reset the index of the dataframes\n",
        "df2018 = df2018.reset_index(drop=True)\n",
        "df2019 = df2019.reset_index(drop=True)\n",
        "df2020 = df2020.reset_index(drop=True)\n",
        "df2021 = df2021.reset_index(drop=True)\n",
        "\n",
        "print(\"2017-2018:\", df2017['CPI'].corr(df2018['GDP Deflator']))\n",
        "print(\"2018-2019:\", df2018['CPI'].corr(df2019['GDP Deflator']))\n",
        "print(\"2019-2020:\", df2019['CPI'].corr(df2020['GDP Deflator']))\n",
        "print(\"2020-2021:\", df2020['CPI'].corr(df2021['GDP Deflator']))"
      ],
      "metadata": {
        "colab": {
          "base_uri": "https://localhost:8080/"
        },
        "id": "VNNweoW8f_Cv",
        "outputId": "e246e5a4-c6d1-4391-ba90-2610ff7933c0"
      },
      "execution_count": 10,
      "outputs": [
        {
          "output_type": "stream",
          "name": "stdout",
          "text": [
            "2017-2018: 0.8948768060896899\n",
            "2018-2019: 0.8875351610852893\n",
            "2019-2020: 0.8805962655773952\n",
            "2020-2021: 0.8930499521240448\n"
          ]
        }
      ]
    }
  ]
}
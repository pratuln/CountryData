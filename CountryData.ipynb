{
  "nbformat": 4,
  "nbformat_minor": 0,
  "metadata": {
    "colab": {
      "provenance": [],
      "include_colab_link": true
    },
    "kernelspec": {
      "name": "python3",
      "display_name": "Python 3"
    },
    "language_info": {
      "name": "python"
    }
  },
  "cells": [
    {
      "cell_type": "markdown",
      "metadata": {
        "id": "view-in-github",
        "colab_type": "text"
      },
      "source": [
        "<a href=\"https://colab.research.google.com/github/pratuln/CountryData/blob/main/CountryData.ipynb\" target=\"_parent\"><img src=\"https://colab.research.google.com/assets/colab-badge.svg\" alt=\"Open In Colab\"/></a>"
      ]
    },
    {
      "cell_type": "code",
      "source": [
        "from google.colab import files\n",
        "uploaded = files.upload()"
      ],
      "metadata": {
        "id": "PyRrzjcv6_am"
      },
      "execution_count": null,
      "outputs": []
    },
    {
      "cell_type": "code",
      "execution_count": null,
      "metadata": {
        "id": "ZLoyPvTKIYEm"
      },
      "outputs": [],
      "source": [
        "import pandas as pd\n",
        "import numpy as np\n",
        "import matplotlib.pyplot as plt"
      ]
    },
    {
      "cell_type": "code",
      "source": [
        "df = pd.read_csv('CPI.csv', header=4)\n",
        "df = df.drop(columns=['Country Code', 'Indicator Name', 'Indicator Code'])\n",
        "df = df.drop(df.iloc[:, 1:58], axis=1)\n",
        "df = df.loc[df['Country Name'].isin(['United Arab Emirates', 'United States', 'United Kingdom', 'China', 'Japan', 'India', 'Germany', 'France', 'Canada', 'Brazil', 'Colombia', 'Poland'])]\n",
        "df = df.set_index('Country Name')\n",
        "df = df.transpose()\n",
        "df = df.drop(df.index[5])\n",
        "df = df.sort_index()\n",
        "df = df.reset_index()\n",
        "df = df.melt(id_vars=['index'], value_vars=['United Arab Emirates', 'United States', 'United Kingdom', 'China', 'Japan', 'India', 'Germany', 'France', 'Canada', 'Brazil', 'Colombia', 'Poland'])\n",
        "df = df.rename(columns={'index': 'Year', 'variable': 'Country Name', 'value': 'CPI'})\n",
        "df = df.sort_values(by=['Year', 'Country Name'])\n",
        "df = df.reset_index(drop=True)\n"
      ],
      "metadata": {
        "id": "2c_lDLMA3oJ4"
      },
      "execution_count": null,
      "outputs": []
    },
    {
      "cell_type": "code",
      "source": [
        "df2 = pd.read_csv('GDP.csv', header=2)\n",
        "df2 = df2.drop(columns=['Country Code', 'Indicator Name', 'Indicator Code'])\n",
        "df2 = df2.drop(df2.iloc[:, 1:58], axis=1)\n",
        "df2 = df2.loc[df2['Country Name'].isin(['United Arab Emirates', 'United States', 'United Kingdom', 'China', 'Japan', 'India', 'Germany', 'France', 'Canada', 'Brazil', 'Colombia', 'Poland'])]\n",
        "df2 = df2.set_index('Country Name')\n",
        "df2 = df2.transpose()\n",
        "df2 = df2.drop(df2.index[6])\n",
        "df2 = df2.drop(df2.index[5])\n",
        "df2 = df2.sort_index()\n",
        "df2 = df2.reset_index()\n",
        "df2 = df2.melt(id_vars=['index'], value_vars=['United Arab Emirates', 'United States', 'United Kingdom', 'China', 'Japan', 'India', 'Germany', 'France', 'Canada', 'Brazil', 'Colombia', 'Poland'])\n",
        "df2 = df2.rename(columns={'index': 'Year', 'variable': 'Country Name', 'value': 'GDP'})\n",
        "df2 = df2.sort_values(by=['Year', 'Country Name'])\n",
        "df2 = df2.reset_index(drop=True)\n"
      ],
      "metadata": {
        "id": "e_gUDFBY1U0y"
      },
      "execution_count": null,
      "outputs": []
    },
    {
      "cell_type": "code",
      "source": [
        "df3 = pd.read_csv('GdpDeflator.csv', header=2)\n",
        "df3 = df3.drop(columns=['Country Code', 'Indicator Name', 'Indicator Code'])\n",
        "df3 = df3.drop(df3.iloc[:, 1:58], axis=1)\n",
        "df3 = df3.loc[df3['Country Name'].isin(['United Arab Emirates', 'United States', 'United Kingdom', 'China', 'Japan', 'India', 'Germany', 'France', 'Canada', 'Brazil', 'Colombia', 'Poland'])]\n",
        "df3 = df3.set_index('Country Name')\n",
        "df3 = df3.transpose()\n",
        "df3 = df3.drop(df3.index[6])\n",
        "df3 = df3.drop(df3.index[5])\n",
        "df3 = df3.sort_index()\n",
        "df3 = df3.reset_index()\n",
        "df3 = df3.melt(id_vars=['index'], value_vars=['United Arab Emirates', 'United States', 'United Kingdom', 'China', 'Japan', 'India', 'Germany', 'France', 'Canada', 'Brazil', 'Colombia', 'Poland'])\n",
        "df3 = df3.rename(columns={'index': 'Year', 'variable': 'Country Name', 'value': 'GDP Deflator'})\n",
        "df3 = df3.sort_values(by=['Year', 'Country Name'])\n",
        "df3 = df3.reset_index(drop=True)\n"
      ],
      "metadata": {
        "id": "YfiasuyR2LCh"
      },
      "execution_count": null,
      "outputs": []
    },
    {
      "cell_type": "code",
      "source": [
        "df4 = pd.read_csv('Inflation.csv', header=2)\n",
        "df4 = df4.drop(columns=['Country Code', 'Indicator Name', 'Indicator Code'])\n",
        "df4 = df4.drop(df4.iloc[:, 1:58], axis=1)\n",
        "df4 = df4.loc[df4['Country Name'].isin(['United Arab Emirates', 'United States', 'United Kingdom', 'China', 'Japan', 'India', 'Germany', 'France', 'Canada', 'Brazil', 'Colombia', 'Poland'])]\n",
        "df4 = df4.set_index('Country Name')\n",
        "df4 = df4.transpose()\n",
        "df4 = df4.drop(df4.index[6])\n",
        "df4 = df4.drop(df4.index[5])\n",
        "df4 = df4.sort_index()\n",
        "df4 = df4.reset_index()\n",
        "df4 = df4.melt(id_vars=['index'], value_vars=['United Arab Emirates', 'United States', 'United Kingdom', 'China', 'Japan', 'India', 'Germany', 'France', 'Canada', 'Brazil', 'Colombia', 'Poland'])\n",
        "df4 = df4.rename(columns={'index': 'Year', 'variable': 'Country Name', 'value': 'Inflation'})\n",
        "df4 = df4.sort_values(by=['Year', 'Country Name'])\n",
        "df4 = df4.reset_index(drop=True)"
      ],
      "metadata": {
        "id": "bvcCT5iJOM9R"
      },
      "execution_count": null,
      "outputs": []
    },
    {
      "cell_type": "code",
      "source": [
        "df5 = pd.concat([df, df2['GDP'], df3['GDP Deflator'], df4['Inflation']], axis=1)\n",
        "df5.to_csv('Final.csv', index=False)"
      ],
      "metadata": {
        "id": "lg4bUnjA2Q5b"
      },
      "execution_count": null,
      "outputs": []
    }
  ]
}